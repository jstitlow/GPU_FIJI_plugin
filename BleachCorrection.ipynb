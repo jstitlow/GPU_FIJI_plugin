{
 "cells": [
  {
   "cell_type": "code",
   "execution_count": 7,
   "metadata": {},
   "outputs": [],
   "source": [
    "%%loadFromPOM\n",
    "<repositories>\n",
    "    <repository>\n",
    "        <id>scijava.public</id>\n",
    "        <url>https://maven.scijava.org/content/groups/public</url>\n",
    "    </repository>\n",
    "</repositories>\n",
    "<dependency>\n",
    "    <groupId>net.imagej</groupId>\n",
    "    <artifactId>ij</artifactId>\n",
    "    <version>1.50i</version>\n",
    "</dependency>"
   ]
  },
  {
   "cell_type": "code",
   "execution_count": 17,
   "metadata": {},
   "outputs": [],
   "source": [
    "%%loadFromPOM\n",
    "<repositories>\n",
    "    <repository>\n",
    "        <id>hslh</id>\n",
    "        <url>http://dl.bintray.com/haesleinhuepf/clij</url>\n",
    "    </repository>\n",
    "    <repository>\n",
    "        <id>scijava.public</id>\n",
    "        <url>https://maven.scijava.org/content/groups/public</url>\n",
    "    </repository>\n",
    "</repositories>\n",
    "<dependencies>\n",
    "    <dependency>\n",
    "        <groupId>net.haesleinhuepf</groupId>\n",
    "        <artifactId>clij_</artifactId>\n",
    "        <version>1.0.7</version>\n",
    "    </dependency>\n",
    "    <dependency>\n",
    "        <groupId>sc.fiji</groupId>\n",
    "        <artifactId>CorrectBleach_</artifactId>\n",
    "        <version>2.0.2</version>\n",
    "    </dependency>\n",
    "\n",
    "    <!-- ImageJ dependencies -->\n",
    "    <dependency>\n",
    "        <groupId>net.imagej</groupId>\n",
    "        <artifactId>ij</artifactId>\n",
    "        <version>1.52i</version>\n",
    "    </dependency>\n",
    "</dependencies>"
   ]
  },
  {
   "cell_type": "code",
   "execution_count": 51,
   "metadata": {},
   "outputs": [
    {
     "ename": "EvalException",
     "evalue": "null",
     "output_type": "error",
     "traceback": [
      "\u001b[1m\u001b[31m---------------------------------------------------------------------------\u001b[0m",
      "\u001b[1m\u001b[31mjava.lang.NullPointerException: null\u001b[0m",
      "\u001b[1m\u001b[31m\tat .(#109:1)\u001b[0m"
     ]
    }
   ],
   "source": [
    "import ij.ImageJ;\n",
    "import ij.ImagePlus;\n",
    "import ij.IJ;\n",
    "import net.haesleinhuepf.clij.clearcl.ClearCLBuffer;\n",
    "import net.haesleinhuepf.clij.macro.AbstractCLIJPlugin;\n",
    "import net.haesleinhuepf.clij.macro.CLIJMacroPlugin;\n",
    "import net.haesleinhuepf.clij.macro.CLIJOpenCLProcessor;\n",
    "import net.haesleinhuepf.clij.macro.documentation.OffersDocumentation;\n",
    "\n",
    "// open ImageJ and get an image\n",
    "new ImageJ();\n",
    "ImagePlus input = IJ.openImage(\"/Users/joshtitlow/src/GPU_FIJI_plugin/test_image.tif\");\n",
    "ClearCLBuffer input = (ClearCLBuffer)(input);\n",
    "System.out.println(input.getDepth());\n"
   ]
  },
  {
   "cell_type": "code",
   "execution_count": 66,
   "metadata": {},
   "outputs": [
    {
     "name": "stdout",
     "output_type": "stream",
     "text": [
      "0.5\n",
      "1.0\n",
      "1.5\n",
      "2.0\n"
     ]
    }
   ],
   "source": [
    "double[] intensities = new double[]{1,2,3,4};\n",
    "for (int i = 0; i < intensities.length; i++){\n",
    "    System.out.println(intensities[i]/2);\n",
    "}"
   ]
  },
  {
   "cell_type": "code",
   "execution_count": 64,
   "metadata": {},
   "outputs": [
    {
     "name": "stdout",
     "output_type": "stream",
     "text": [
      "[0.5, 1.0, 1.5, 2.0]\n"
     ]
    }
   ],
   "source": [
    "for (int k = 0; k < intensities.length; k++){\n",
    "    intensities[k] = intensities[k] / 2;\n",
    "}\n",
    "System.out.println(Arrays.toString(intensities));"
   ]
  },
  {
   "cell_type": "code",
   "execution_count": 67,
   "metadata": {},
   "outputs": [
    {
     "name": "stdout",
     "output_type": "stream",
     "text": [
      "[1.0, 2.0, 3.0, 4.0]\n"
     ]
    }
   ],
   "source": [
    "System.out.println(Arrays.toString(intensities));"
   ]
  },
  {
   "cell_type": "code",
   "execution_count": null,
   "metadata": {},
   "outputs": [],
   "source": []
  }
 ],
 "metadata": {
  "kernelspec": {
   "display_name": "Java",
   "language": "java",
   "name": "java"
  },
  "language_info": {
   "codemirror_mode": "java",
   "file_extension": ".jshell",
   "mimetype": "text/x-java-source",
   "name": "Java",
   "pygments_lexer": "java",
   "version": "11.0.8+10-LTS"
  }
 },
 "nbformat": 4,
 "nbformat_minor": 4
}
