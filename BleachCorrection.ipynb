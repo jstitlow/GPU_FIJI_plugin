{
 "cells": [
  {
   "cell_type": "code",
   "execution_count": 7,
   "metadata": {},
   "outputs": [],
   "source": [
    "%%loadFromPOM\n",
    "<repositories>\n",
    "    <repository>\n",
    "        <id>scijava.public</id>\n",
    "        <url>https://maven.scijava.org/content/groups/public</url>\n",
    "    </repository>\n",
    "</repositories>\n",
    "<dependency>\n",
    "    <groupId>net.imagej</groupId>\n",
    "    <artifactId>ij</artifactId>\n",
    "    <version>1.50i</version>\n",
    "</dependency>"
   ]
  },
  {
   "cell_type": "code",
   "execution_count": 17,
   "metadata": {},
   "outputs": [],
   "source": [
    "%%loadFromPOM\n",
    "<repositories>\n",
    "    <repository>\n",
    "        <id>hslh</id>\n",
    "        <url>http://dl.bintray.com/haesleinhuepf/clij</url>\n",
    "    </repository>\n",
    "    <repository>\n",
    "        <id>scijava.public</id>\n",
    "        <url>https://maven.scijava.org/content/groups/public</url>\n",
    "    </repository>\n",
    "</repositories>\n",
    "<dependencies>\n",
    "    <dependency>\n",
    "        <groupId>net.haesleinhuepf</groupId>\n",
    "        <artifactId>clij_</artifactId>\n",
    "        <version>1.0.7</version>\n",
    "    </dependency>\n",
    "    <dependency>\n",
    "        <groupId>sc.fiji</groupId>\n",
    "        <artifactId>CorrectBleach_</artifactId>\n",
    "        <version>2.0.2</version>\n",
    "    </dependency>\n",
    "\n",
    "    <!-- ImageJ dependencies -->\n",
    "    <dependency>\n",
    "        <groupId>net.imagej</groupId>\n",
    "        <artifactId>ij</artifactId>\n",
    "        <version>1.52i</version>\n",
    "    </dependency>\n",
    "</dependencies>"
   ]
  },
  {
   "cell_type": "code",
   "execution_count": 34,
   "metadata": {},
   "outputs": [
    {
     "name": "stdout",
     "output_type": "stream",
     "text": [
      "262144.0\n"
     ]
    }
   ],
   "source": [
    "import ij.ImageJ;\n",
    "import ij.ImagePlus;\n",
    "import ij.IJ;\n",
    "\n",
    "// open ImageJ and get an image\n",
    "new ImageJ();\n",
    "ImagePlus input = IJ.openImage(\"/Users/joshtitlow/src/GPU_FIJI_plugin/test_image.tif\");\n",
    "System.out.println(Math.pow(input.getWidth(), 2));\n"
   ]
  },
  {
   "cell_type": "code",
   "execution_count": 41,
   "metadata": {},
   "outputs": [
    {
     "name": "stdout",
     "output_type": "stream",
     "text": [
      "0.5\n",
      "1.0\n",
      "1.5\n",
      "2.0\n"
     ]
    }
   ],
   "source": [
    "double[] intensities = new double[]{1,2,3,4};\n",
    "for (int i = 0; i < intensities.length; i++){\n",
    "    System.out.println(intensities[i]/2);\n",
    "}"
   ]
  },
  {
   "cell_type": "code",
   "execution_count": null,
   "metadata": {},
   "outputs": [],
   "source": []
  }
 ],
 "metadata": {
  "kernelspec": {
   "display_name": "Java",
   "language": "java",
   "name": "java"
  },
  "language_info": {
   "codemirror_mode": "java",
   "file_extension": ".jshell",
   "mimetype": "text/x-java-source",
   "name": "Java",
   "pygments_lexer": "java",
   "version": "11.0.8+10-LTS"
  }
 },
 "nbformat": 4,
 "nbformat_minor": 4
}
